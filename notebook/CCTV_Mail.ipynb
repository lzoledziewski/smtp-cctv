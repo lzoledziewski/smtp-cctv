{
 "cells": [
  {
   "cell_type": "code",
   "execution_count": null,
   "metadata": {},
   "outputs": [
    {
     "name": "stderr",
     "output_type": "stream",
     "text": [
      "_accept_subprocess(): smtp connection accepted within subprocess.\n",
      "_accept_subprocess(): starting asyncore within subprocess.\n",
      "_accept_subprocess(): asyncore loop exited.\n",
      "_accept_subprocess(): smtp connection accepted within subprocess.\n",
      "_accept_subprocess(): starting asyncore within subprocess.\n",
      "FakeCredentialValidator: you should replace this with an actual implementation of a credential validator.\n"
     ]
    },
    {
     "name": "stdout",
     "output_type": "stream",
     "text": [
      "Written image to 20200607192408-mieszko.jpg\n"
     ]
    },
    {
     "name": "stderr",
     "output_type": "stream",
     "text": [
      "_accept_subprocess(): smtp channel terminated asyncore.\n"
     ]
    }
   ],
   "source": [
    "from secure_smtpd import SMTPServer, FakeCredentialValidator\n",
    "from datetime import datetime\n",
    "\n",
    "import asyncore\n",
    "import email\n",
    "from datetime import datetime\n",
    "import re,base64\n",
    "\n",
    "class EmlHandler():\n",
    "    def extract_image(self,data):\n",
    "        \n",
    "        image = None\n",
    "        outf = None\n",
    "        m = email.message_from_string(data)\n",
    "        if m.is_multipart():\n",
    "            for sm in m.get_payload():\n",
    "                filename = sm.get_filename()\n",
    "                if filename:\n",
    "                    match = re.match(r\"=\\?UTF-8\\?B\\?(.*)\\?=\",str(filename))\n",
    "                if filename and match:\n",
    "                    filename = base64.b64decode(match.group(1)).decode('utf-8')\n",
    "                if filename and filename.endswith('jpg'):\n",
    "                    image = sm.get_payload(decode=True)\n",
    "                elif filename:\n",
    "                    print(\"Cannot handle {}\".format(filename))\n",
    "        if image:\n",
    "            stamp = datetime\n",
    "            author = m['from'].replace('<','').split('@')[0]\n",
    "            outf = \"{}-{}.jpg\".format(datetime.now().strftime('%Y%m%d%H%M%S'),author)\n",
    "            with open(outf,'wb') as out:\n",
    "                out.write(image)\n",
    "        return outf\n",
    "\n",
    "class EmlServer(SMTPServer):\n",
    "    no = 0\n",
    "    def process_message(self, peer, mailfrom, rcpttos, data,mail_options=None,rcpt_options=None):\n",
    "        file = EmlHandler().extract_image(data)\n",
    "        if file:\n",
    "            print(\"Written image to {}\".format(file))\n",
    "        else:\n",
    "            print(\"Mail from {} did not had picture inside it\".format(mailfrom))\n",
    "\n",
    "def run():\n",
    "    foo = EmlServer(('192.168.0.241', 8025),\n",
    "        None,\n",
    "        require_authentication=False,\n",
    "        ssl=False,\n",
    "        credential_validator=FakeCredentialValidator(),\n",
    "        )\n",
    "    try:\n",
    "        foo.run()\n",
    "    except KeyboardInterrupt:\n",
    "        pass\n",
    "\n",
    "run()\n"
   ]
  },
  {
   "cell_type": "code",
   "execution_count": null,
   "metadata": {},
   "outputs": [],
   "source": []
  },
  {
   "cell_type": "code",
   "execution_count": null,
   "metadata": {},
   "outputs": [],
   "source": []
  }
 ],
 "metadata": {
  "kernelspec": {
   "display_name": "Python 3",
   "language": "python",
   "name": "python3"
  },
  "language_info": {
   "codemirror_mode": {
    "name": "ipython",
    "version": 3
   },
   "file_extension": ".py",
   "mimetype": "text/x-python",
   "name": "python",
   "nbconvert_exporter": "python",
   "pygments_lexer": "ipython3",
   "version": "3.7.3"
  }
 },
 "nbformat": 4,
 "nbformat_minor": 4
}
